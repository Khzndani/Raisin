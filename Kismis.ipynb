{
  "nbformat": 4,
  "nbformat_minor": 0,
  "metadata": {
    "colab": {
      "provenance": []
    },
    "kernelspec": {
      "name": "python3",
      "display_name": "Python 3"
    },
    "language_info": {
      "name": "python"
    }
  },
  "cells": [
    {
      "cell_type": "code",
      "execution_count": 94,
      "metadata": {
        "id": "jikt-CG58Lhl"
      },
      "outputs": [],
      "source": [
        "import numpy as np\n",
        "import pandas as pd\n",
        "from sklearn.preprocessing import StandardScaler\n",
        "from sklearn.model_selection import train_test_split\n",
        "from sklearn import svm\n",
        "from sklearn.metrics import accuracy_score"
      ]
    },
    {
      "cell_type": "markdown",
      "source": [
        "# Bagian Baru"
      ],
      "metadata": {
        "id": "VS_AIckwIjDd"
      }
    },
    {
      "cell_type": "code",
      "source": [
        "km_dataset = pd.read_excel('Raisin_Dataset.xlsx')"
      ],
      "metadata": {
        "id": "beKq1w_OmOzF"
      },
      "execution_count": 95,
      "outputs": []
    },
    {
      "cell_type": "code",
      "source": [
        "km_dataset.head()"
      ],
      "metadata": {
        "colab": {
          "base_uri": "https://localhost:8080/",
          "height": 206
        },
        "id": "jGsNsVqqqCdr",
        "outputId": "1072bb09-5b73-49cb-abeb-964496a607f5"
      },
      "execution_count": 96,
      "outputs": [
        {
          "output_type": "execute_result",
          "data": {
            "text/plain": [
              "    Area  MajorAxisLength  MinorAxisLength  Eccentricity  ConvexArea  \\\n",
              "0  87524       442.246011       253.291155      0.819738       90546   \n",
              "1  75166       406.690687       243.032436      0.801805       78789   \n",
              "2  90856       442.267048       266.328318      0.798354       93717   \n",
              "3  45928       286.540559       208.760042      0.684989       47336   \n",
              "4  79408       352.190770       290.827533      0.564011       81463   \n",
              "\n",
              "     Extent  Perimeter    Class  \n",
              "0  0.758651   1184.040  Kecimen  \n",
              "1  0.684130   1121.786  Kecimen  \n",
              "2  0.637613   1208.575  Kecimen  \n",
              "3  0.699599    844.162  Kecimen  \n",
              "4  0.792772   1073.251  Kecimen  "
            ],
            "text/html": [
              "\n",
              "  <div id=\"df-c08942b7-fc50-4fe8-9b6c-f32adc7525aa\">\n",
              "    <div class=\"colab-df-container\">\n",
              "      <div>\n",
              "<style scoped>\n",
              "    .dataframe tbody tr th:only-of-type {\n",
              "        vertical-align: middle;\n",
              "    }\n",
              "\n",
              "    .dataframe tbody tr th {\n",
              "        vertical-align: top;\n",
              "    }\n",
              "\n",
              "    .dataframe thead th {\n",
              "        text-align: right;\n",
              "    }\n",
              "</style>\n",
              "<table border=\"1\" class=\"dataframe\">\n",
              "  <thead>\n",
              "    <tr style=\"text-align: right;\">\n",
              "      <th></th>\n",
              "      <th>Area</th>\n",
              "      <th>MajorAxisLength</th>\n",
              "      <th>MinorAxisLength</th>\n",
              "      <th>Eccentricity</th>\n",
              "      <th>ConvexArea</th>\n",
              "      <th>Extent</th>\n",
              "      <th>Perimeter</th>\n",
              "      <th>Class</th>\n",
              "    </tr>\n",
              "  </thead>\n",
              "  <tbody>\n",
              "    <tr>\n",
              "      <th>0</th>\n",
              "      <td>87524</td>\n",
              "      <td>442.246011</td>\n",
              "      <td>253.291155</td>\n",
              "      <td>0.819738</td>\n",
              "      <td>90546</td>\n",
              "      <td>0.758651</td>\n",
              "      <td>1184.040</td>\n",
              "      <td>Kecimen</td>\n",
              "    </tr>\n",
              "    <tr>\n",
              "      <th>1</th>\n",
              "      <td>75166</td>\n",
              "      <td>406.690687</td>\n",
              "      <td>243.032436</td>\n",
              "      <td>0.801805</td>\n",
              "      <td>78789</td>\n",
              "      <td>0.684130</td>\n",
              "      <td>1121.786</td>\n",
              "      <td>Kecimen</td>\n",
              "    </tr>\n",
              "    <tr>\n",
              "      <th>2</th>\n",
              "      <td>90856</td>\n",
              "      <td>442.267048</td>\n",
              "      <td>266.328318</td>\n",
              "      <td>0.798354</td>\n",
              "      <td>93717</td>\n",
              "      <td>0.637613</td>\n",
              "      <td>1208.575</td>\n",
              "      <td>Kecimen</td>\n",
              "    </tr>\n",
              "    <tr>\n",
              "      <th>3</th>\n",
              "      <td>45928</td>\n",
              "      <td>286.540559</td>\n",
              "      <td>208.760042</td>\n",
              "      <td>0.684989</td>\n",
              "      <td>47336</td>\n",
              "      <td>0.699599</td>\n",
              "      <td>844.162</td>\n",
              "      <td>Kecimen</td>\n",
              "    </tr>\n",
              "    <tr>\n",
              "      <th>4</th>\n",
              "      <td>79408</td>\n",
              "      <td>352.190770</td>\n",
              "      <td>290.827533</td>\n",
              "      <td>0.564011</td>\n",
              "      <td>81463</td>\n",
              "      <td>0.792772</td>\n",
              "      <td>1073.251</td>\n",
              "      <td>Kecimen</td>\n",
              "    </tr>\n",
              "  </tbody>\n",
              "</table>\n",
              "</div>\n",
              "      <button class=\"colab-df-convert\" onclick=\"convertToInteractive('df-c08942b7-fc50-4fe8-9b6c-f32adc7525aa')\"\n",
              "              title=\"Convert this dataframe to an interactive table.\"\n",
              "              style=\"display:none;\">\n",
              "        \n",
              "  <svg xmlns=\"http://www.w3.org/2000/svg\" height=\"24px\"viewBox=\"0 0 24 24\"\n",
              "       width=\"24px\">\n",
              "    <path d=\"M0 0h24v24H0V0z\" fill=\"none\"/>\n",
              "    <path d=\"M18.56 5.44l.94 2.06.94-2.06 2.06-.94-2.06-.94-.94-2.06-.94 2.06-2.06.94zm-11 1L8.5 8.5l.94-2.06 2.06-.94-2.06-.94L8.5 2.5l-.94 2.06-2.06.94zm10 10l.94 2.06.94-2.06 2.06-.94-2.06-.94-.94-2.06-.94 2.06-2.06.94z\"/><path d=\"M17.41 7.96l-1.37-1.37c-.4-.4-.92-.59-1.43-.59-.52 0-1.04.2-1.43.59L10.3 9.45l-7.72 7.72c-.78.78-.78 2.05 0 2.83L4 21.41c.39.39.9.59 1.41.59.51 0 1.02-.2 1.41-.59l7.78-7.78 2.81-2.81c.8-.78.8-2.07 0-2.86zM5.41 20L4 18.59l7.72-7.72 1.47 1.35L5.41 20z\"/>\n",
              "  </svg>\n",
              "      </button>\n",
              "      \n",
              "  <style>\n",
              "    .colab-df-container {\n",
              "      display:flex;\n",
              "      flex-wrap:wrap;\n",
              "      gap: 12px;\n",
              "    }\n",
              "\n",
              "    .colab-df-convert {\n",
              "      background-color: #E8F0FE;\n",
              "      border: none;\n",
              "      border-radius: 50%;\n",
              "      cursor: pointer;\n",
              "      display: none;\n",
              "      fill: #1967D2;\n",
              "      height: 32px;\n",
              "      padding: 0 0 0 0;\n",
              "      width: 32px;\n",
              "    }\n",
              "\n",
              "    .colab-df-convert:hover {\n",
              "      background-color: #E2EBFA;\n",
              "      box-shadow: 0px 1px 2px rgba(60, 64, 67, 0.3), 0px 1px 3px 1px rgba(60, 64, 67, 0.15);\n",
              "      fill: #174EA6;\n",
              "    }\n",
              "\n",
              "    [theme=dark] .colab-df-convert {\n",
              "      background-color: #3B4455;\n",
              "      fill: #D2E3FC;\n",
              "    }\n",
              "\n",
              "    [theme=dark] .colab-df-convert:hover {\n",
              "      background-color: #434B5C;\n",
              "      box-shadow: 0px 1px 3px 1px rgba(0, 0, 0, 0.15);\n",
              "      filter: drop-shadow(0px 1px 2px rgba(0, 0, 0, 0.3));\n",
              "      fill: #FFFFFF;\n",
              "    }\n",
              "  </style>\n",
              "\n",
              "      <script>\n",
              "        const buttonEl =\n",
              "          document.querySelector('#df-c08942b7-fc50-4fe8-9b6c-f32adc7525aa button.colab-df-convert');\n",
              "        buttonEl.style.display =\n",
              "          google.colab.kernel.accessAllowed ? 'block' : 'none';\n",
              "\n",
              "        async function convertToInteractive(key) {\n",
              "          const element = document.querySelector('#df-c08942b7-fc50-4fe8-9b6c-f32adc7525aa');\n",
              "          const dataTable =\n",
              "            await google.colab.kernel.invokeFunction('convertToInteractive',\n",
              "                                                     [key], {});\n",
              "          if (!dataTable) return;\n",
              "\n",
              "          const docLinkHtml = 'Like what you see? Visit the ' +\n",
              "            '<a target=\"_blank\" href=https://colab.research.google.com/notebooks/data_table.ipynb>data table notebook</a>'\n",
              "            + ' to learn more about interactive tables.';\n",
              "          element.innerHTML = '';\n",
              "          dataTable['output_type'] = 'display_data';\n",
              "          await google.colab.output.renderOutput(dataTable, element);\n",
              "          const docLink = document.createElement('div');\n",
              "          docLink.innerHTML = docLinkHtml;\n",
              "          element.appendChild(docLink);\n",
              "        }\n",
              "      </script>\n",
              "    </div>\n",
              "  </div>\n",
              "  "
            ]
          },
          "metadata": {},
          "execution_count": 96
        }
      ]
    },
    {
      "cell_type": "code",
      "source": [
        "km_dataset['Class'] = km_dataset['Class'].map({'Kecimen':1, 'Besni':0})\n"
      ],
      "metadata": {
        "id": "o-_KE5aSvy1j"
      },
      "execution_count": 97,
      "outputs": []
    },
    {
      "cell_type": "code",
      "source": [
        "km_dataset.shape"
      ],
      "metadata": {
        "colab": {
          "base_uri": "https://localhost:8080/"
        },
        "id": "dIawwp5iqZ4i",
        "outputId": "f6646fe0-e822-4fdc-a5da-148a2c5bd064"
      },
      "execution_count": 98,
      "outputs": [
        {
          "output_type": "execute_result",
          "data": {
            "text/plain": [
              "(900, 8)"
            ]
          },
          "metadata": {},
          "execution_count": 98
        }
      ]
    },
    {
      "cell_type": "code",
      "source": [
        "# memisahkan data dan label\n",
        "\n",
        "x = km_dataset.drop (columns='Class', axis=1)\n",
        "y = km_dataset['Class']"
      ],
      "metadata": {
        "id": "pIX43V4-qjy5"
      },
      "execution_count": 100,
      "outputs": []
    },
    {
      "cell_type": "code",
      "source": [
        "print(x)"
      ],
      "metadata": {
        "colab": {
          "base_uri": "https://localhost:8080/"
        },
        "id": "w2QuTUQgrzHY",
        "outputId": "bda12b17-fac1-42d8-cfca-70d045a01575"
      },
      "execution_count": 101,
      "outputs": [
        {
          "output_type": "stream",
          "name": "stdout",
          "text": [
            "      Area  MajorAxisLength  MinorAxisLength  Eccentricity  ConvexArea  \\\n",
            "0    87524       442.246011       253.291155      0.819738       90546   \n",
            "1    75166       406.690687       243.032436      0.801805       78789   \n",
            "2    90856       442.267048       266.328318      0.798354       93717   \n",
            "3    45928       286.540559       208.760042      0.684989       47336   \n",
            "4    79408       352.190770       290.827533      0.564011       81463   \n",
            "..     ...              ...              ...           ...         ...   \n",
            "895  83248       430.077308       247.838695      0.817263       85839   \n",
            "896  87350       440.735698       259.293149      0.808629       90899   \n",
            "897  99657       431.706981       298.837323      0.721684      106264   \n",
            "898  93523       476.344094       254.176054      0.845739       97653   \n",
            "899  85609       512.081774       215.271976      0.907345       89197   \n",
            "\n",
            "       Extent  Perimeter  \n",
            "0    0.758651   1184.040  \n",
            "1    0.684130   1121.786  \n",
            "2    0.637613   1208.575  \n",
            "3    0.699599    844.162  \n",
            "4    0.792772   1073.251  \n",
            "..        ...        ...  \n",
            "895  0.668793   1129.072  \n",
            "896  0.636476   1214.252  \n",
            "897  0.741099   1292.828  \n",
            "898  0.658798   1258.548  \n",
            "899  0.632020   1272.862  \n",
            "\n",
            "[900 rows x 7 columns]\n"
          ]
        }
      ]
    },
    {
      "cell_type": "code",
      "source": [
        "print(y)"
      ],
      "metadata": {
        "colab": {
          "base_uri": "https://localhost:8080/"
        },
        "id": "Q-k8nIUWr96Y",
        "outputId": "73816fff-e020-4ea0-9e5f-f864289db456"
      },
      "execution_count": 102,
      "outputs": [
        {
          "output_type": "stream",
          "name": "stdout",
          "text": [
            "0      1\n",
            "1      1\n",
            "2      1\n",
            "3      1\n",
            "4      1\n",
            "      ..\n",
            "895    0\n",
            "896    0\n",
            "897    0\n",
            "898    0\n",
            "899    0\n",
            "Name: Class, Length: 900, dtype: int64\n"
          ]
        }
      ]
    },
    {
      "cell_type": "code",
      "source": [
        "# standarisasi data\n",
        "\n",
        "scaler = StandardScaler() "
      ],
      "metadata": {
        "id": "7vF2FETAsTep"
      },
      "execution_count": 103,
      "outputs": []
    },
    {
      "cell_type": "code",
      "source": [
        "scaler.fit(x)"
      ],
      "metadata": {
        "colab": {
          "base_uri": "https://localhost:8080/"
        },
        "id": "rB52ilRgsqqJ",
        "outputId": "6e44cf26-6f47-4e08-a4c4-2d569b3feb82"
      },
      "execution_count": 104,
      "outputs": [
        {
          "output_type": "execute_result",
          "data": {
            "text/plain": [
              "StandardScaler()"
            ]
          },
          "metadata": {},
          "execution_count": 104
        }
      ]
    },
    {
      "cell_type": "code",
      "source": [
        "standar_data = scaler.transform(x)"
      ],
      "metadata": {
        "id": "wvJI3HietAVJ"
      },
      "execution_count": 105,
      "outputs": []
    },
    {
      "cell_type": "code",
      "source": [
        "print(standar_data)"
      ],
      "metadata": {
        "colab": {
          "base_uri": "https://localhost:8080/"
        },
        "id": "PL3PK1z2t2U7",
        "outputId": "29fa7804-f496-4f6a-b43b-1437a1ef3d24"
      },
      "execution_count": 106,
      "outputs": [
        {
          "output_type": "stream",
          "name": "stdout",
          "text": [
            "[[-0.00718637  0.09757695 -0.02395819 ... -0.01570903  1.10674264\n",
            "   0.06627397]\n",
            " [-0.32421719 -0.20901207 -0.22929222 ... -0.3042482  -0.28777679\n",
            "  -0.16125245]\n",
            " [ 0.07829241  0.09775835  0.23698797 ...  0.06211335 -1.15824974\n",
            "   0.15594468]\n",
            " ...\n",
            " [ 0.30407232  0.00670023  0.88767401 ...  0.37004063  0.77828911\n",
            "   0.46387322]\n",
            " [ 0.14671134  0.39160036 -0.00624644 ...  0.15871029 -0.76180437\n",
            "   0.3385864 ]\n",
            " [-0.05631357  0.69976181 -0.78493347 ... -0.04881606 -1.26290931\n",
            "   0.39090133]]\n"
          ]
        }
      ]
    },
    {
      "cell_type": "code",
      "source": [
        "x = standar_data\n",
        "y = km_dataset['Class']"
      ],
      "metadata": {
        "id": "7x9RWmq_uC6A"
      },
      "execution_count": 107,
      "outputs": []
    },
    {
      "cell_type": "code",
      "source": [
        "print(x)\n",
        "print(y)"
      ],
      "metadata": {
        "colab": {
          "base_uri": "https://localhost:8080/"
        },
        "id": "QQD60GKvuXQp",
        "outputId": "70ed0edd-04f7-43f2-cf4c-eba359c4e6b1"
      },
      "execution_count": 108,
      "outputs": [
        {
          "output_type": "stream",
          "name": "stdout",
          "text": [
            "[[-0.00718637  0.09757695 -0.02395819 ... -0.01570903  1.10674264\n",
            "   0.06627397]\n",
            " [-0.32421719 -0.20901207 -0.22929222 ... -0.3042482  -0.28777679\n",
            "  -0.16125245]\n",
            " [ 0.07829241  0.09775835  0.23698797 ...  0.06211335 -1.15824974\n",
            "   0.15594468]\n",
            " ...\n",
            " [ 0.30407232  0.00670023  0.88767401 ...  0.37004063  0.77828911\n",
            "   0.46387322]\n",
            " [ 0.14671134  0.39160036 -0.00624644 ...  0.15871029 -0.76180437\n",
            "   0.3385864 ]\n",
            " [-0.05631357  0.69976181 -0.78493347 ... -0.04881606 -1.26290931\n",
            "   0.39090133]]\n",
            "0      1\n",
            "1      1\n",
            "2      1\n",
            "3      1\n",
            "4      1\n",
            "      ..\n",
            "895    0\n",
            "896    0\n",
            "897    0\n",
            "898    0\n",
            "899    0\n",
            "Name: Class, Length: 900, dtype: int64\n"
          ]
        }
      ]
    },
    {
      "cell_type": "code",
      "source": [
        "# memisahkan data training dan data testing\n",
        "\n",
        "X_train, X_test, Y_train, Y_test = train_test_split(x, y, test_size= 0.2, stratify=y, random_state=2)"
      ],
      "metadata": {
        "id": "pTlUsLGlutZr"
      },
      "execution_count": 109,
      "outputs": []
    },
    {
      "cell_type": "code",
      "source": [
        "print(x.shape, X_train.shape, X_test.shape) "
      ],
      "metadata": {
        "colab": {
          "base_uri": "https://localhost:8080/"
        },
        "id": "EEtvUrmdvzv2",
        "outputId": "a65a3899-f316-4422-e224-802bfac0be56"
      },
      "execution_count": 110,
      "outputs": [
        {
          "output_type": "stream",
          "name": "stdout",
          "text": [
            "(900, 7) (720, 7) (180, 7)\n"
          ]
        }
      ]
    },
    {
      "cell_type": "code",
      "source": [
        "# membuat data latih menggunakan algoritma SVM\n",
        "\n",
        "classifier = svm.SVC(kernel='linear')"
      ],
      "metadata": {
        "id": "YqlKN-UxwrNz"
      },
      "execution_count": 111,
      "outputs": []
    },
    {
      "cell_type": "code",
      "source": [
        "classifier.fit(X_train, Y_train)"
      ],
      "metadata": {
        "colab": {
          "base_uri": "https://localhost:8080/"
        },
        "id": "fUFz_txaxPEq",
        "outputId": "e1b3e668-13df-4ea8-bc6b-99bb98802a89"
      },
      "execution_count": 112,
      "outputs": [
        {
          "output_type": "execute_result",
          "data": {
            "text/plain": [
              "SVC(kernel='linear')"
            ]
          },
          "metadata": {},
          "execution_count": 112
        }
      ]
    },
    {
      "cell_type": "code",
      "source": [
        "#membuat evaluasi untuk mengukur tingkat akurasi\n",
        "\n",
        "X_train_predic = classifier.predict(X_train)\n",
        "training_data_accuracy = accuracy_score(X_train_predic, Y_train)"
      ],
      "metadata": {
        "id": "NOVgQs8YxgfH"
      },
      "execution_count": 113,
      "outputs": []
    },
    {
      "cell_type": "code",
      "source": [
        "print('Akurasi data training adalah = ', training_data_accuracy)"
      ],
      "metadata": {
        "colab": {
          "base_uri": "https://localhost:8080/"
        },
        "id": "GaWgFRycyf1h",
        "outputId": "12a8811d-2219-41ed-b791-35d772f26eeb"
      },
      "execution_count": 114,
      "outputs": [
        {
          "output_type": "stream",
          "name": "stdout",
          "text": [
            "Akurasi data training adalah =  0.8694444444444445\n"
          ]
        }
      ]
    },
    {
      "cell_type": "code",
      "source": [
        "X_test_predic = classifier.predict(X_test)\n",
        "test_data_accuracy = accuracy_score(X_test_predic, Y_test)"
      ],
      "metadata": {
        "id": "fhppnT15yyRK"
      },
      "execution_count": 115,
      "outputs": []
    },
    {
      "cell_type": "code",
      "source": [
        "print('Akurasi data testing adalah = ', test_data_accuracy)"
      ],
      "metadata": {
        "colab": {
          "base_uri": "https://localhost:8080/"
        },
        "id": "CgsRTmKjzbNQ",
        "outputId": "e57c5622-f991-4f3d-82d7-4aea72a26f3d"
      },
      "execution_count": 116,
      "outputs": [
        {
          "output_type": "stream",
          "name": "stdout",
          "text": [
            "Akurasi data testing adalah =  0.8777777777777778\n"
          ]
        }
      ]
    },
    {
      "cell_type": "code",
      "source": [
        "# membuat model prediksi\n",
        "\n",
        "input_data = (117077, 496.1307567, 314.547414, 0.773332196, 123305, 0.70883156, 1419.16)\n",
        "\n",
        "input_data_as_numpy_array = np.array(input_data)\n",
        "\n",
        "input_data_reshape = input_data_as_numpy_array.reshape(1,-1)\n",
        "\n",
        "std_data = scaler.transform(input_data_reshape)\n",
        "print(std_data)\n",
        "\n",
        "predic = classifier.predict(std_data)\n",
        "print(predic)\n",
        "\n",
        "if (predic[0] == 0):\n",
        "    print('Jenis Besni')\n",
        "else :\n",
        "    print('Jenis Kecimen')"
      ],
      "metadata": {
        "colab": {
          "base_uri": "https://localhost:8080/"
        },
        "id": "EmTuM2jxzpVY",
        "outputId": "e6f6e4c9-511c-4dee-ba1a-600446c96af8"
      },
      "execution_count": 120,
      "outputs": [
        {
          "output_type": "stream",
          "name": "stdout",
          "text": [
            "[[ 0.75096315  0.56221822  1.20212033 -0.09095066  0.78825922  0.17447413\n",
            "   0.92559243]]\n",
            "[0]\n",
            "Jenis Besni\n"
          ]
        },
        {
          "output_type": "stream",
          "name": "stderr",
          "text": [
            "/usr/local/lib/python3.8/dist-packages/sklearn/base.py:450: UserWarning: X does not have valid feature names, but StandardScaler was fitted with feature names\n",
            "  warnings.warn(\n"
          ]
        }
      ]
    },
    {
      "cell_type": "code",
      "source": [
        "# simpan model\n",
        "\n",
        "import pickle"
      ],
      "metadata": {
        "id": "xMv2utbt25A5"
      },
      "execution_count": 121,
      "outputs": []
    },
    {
      "cell_type": "code",
      "source": [
        "filename = 'kismis.sav'\n",
        "pickle.dump(classifier, open(filename,'wb'))"
      ],
      "metadata": {
        "id": "cjJRfXpV3D2Z"
      },
      "execution_count": 122,
      "outputs": []
    },
    {
      "cell_type": "code",
      "source": [
        "from joblib import dump, load\n",
        "dump(classifier, 'CsTrav.joblib') "
      ],
      "metadata": {
        "colab": {
          "base_uri": "https://localhost:8080/"
        },
        "id": "uH6CYwvrN6uH",
        "outputId": "2cd004a6-34f2-49f9-8976-8ddec021e80f"
      },
      "execution_count": null,
      "outputs": [
        {
          "output_type": "execute_result",
          "data": {
            "text/plain": [
              "['CsTrav.joblib']"
            ]
          },
          "metadata": {},
          "execution_count": 34
        }
      ]
    },
    {
      "cell_type": "code",
      "source": [],
      "metadata": {
        "id": "Ea7JD-lXcX7b"
      },
      "execution_count": null,
      "outputs": []
    }
  ]
}